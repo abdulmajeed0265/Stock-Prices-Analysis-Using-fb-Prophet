{
 "cells": [
  {
   "cell_type": "code",
   "execution_count": 1,
   "metadata": {},
   "outputs": [
    {
     "name": "stderr",
     "output_type": "stream",
     "text": [
      "Importing plotly failed. Interactive plots will not work.\n"
     ]
    }
   ],
   "source": [
    "import pandas as pd\n",
    "import numpy as np\n",
    "import yfinance as yf\n",
    "from prophet import Prophet\n",
    "import matplotlib.pyplot as plt\n",
    "import seaborn as sns"
   ]
  },
  {
   "cell_type": "code",
   "execution_count": 2,
   "metadata": {},
   "outputs": [
    {
     "data": {
      "text/html": [
       "<div>\n",
       "<style scoped>\n",
       "    .dataframe tbody tr th:only-of-type {\n",
       "        vertical-align: middle;\n",
       "    }\n",
       "\n",
       "    .dataframe tbody tr th {\n",
       "        vertical-align: top;\n",
       "    }\n",
       "\n",
       "    .dataframe thead th {\n",
       "        text-align: right;\n",
       "    }\n",
       "</style>\n",
       "<table border=\"1\" class=\"dataframe\">\n",
       "  <thead>\n",
       "    <tr style=\"text-align: right;\">\n",
       "      <th></th>\n",
       "      <th>Open</th>\n",
       "      <th>High</th>\n",
       "      <th>Low</th>\n",
       "      <th>Close</th>\n",
       "      <th>Volume</th>\n",
       "      <th>Dividends</th>\n",
       "      <th>Stock Splits</th>\n",
       "    </tr>\n",
       "    <tr>\n",
       "      <th>Date</th>\n",
       "      <th></th>\n",
       "      <th></th>\n",
       "      <th></th>\n",
       "      <th></th>\n",
       "      <th></th>\n",
       "      <th></th>\n",
       "      <th></th>\n",
       "    </tr>\n",
       "  </thead>\n",
       "  <tbody>\n",
       "    <tr>\n",
       "      <th>2008-01-25 00:00:00-05:00</th>\n",
       "      <td>4.231343</td>\n",
       "      <td>4.234387</td>\n",
       "      <td>3.945783</td>\n",
       "      <td>3.958</td>\n",
       "      <td>1554739200</td>\n",
       "      <td>0.0</td>\n",
       "      <td>0.0</td>\n",
       "    </tr>\n",
       "    <tr>\n",
       "      <th>2008-01-28 00:00:00-05:00</th>\n",
       "      <td>3.901640</td>\n",
       "      <td>4.055075</td>\n",
       "      <td>3.849580</td>\n",
       "      <td>3.958</td>\n",
       "      <td>1474844000</td>\n",
       "      <td>0.0</td>\n",
       "      <td>0.0</td>\n",
       "    </tr>\n",
       "    <tr>\n",
       "      <th>2008-01-29 00:00:00-05:00</th>\n",
       "      <td>3.992665</td>\n",
       "      <td>4.042592</td>\n",
       "      <td>3.928734</td>\n",
       "      <td>4.005</td>\n",
       "      <td>1099982800</td>\n",
       "      <td>0.0</td>\n",
       "      <td>0.0</td>\n",
       "    </tr>\n",
       "    <tr>\n",
       "      <th>2008-01-30 00:00:00-05:00</th>\n",
       "      <td>3.999362</td>\n",
       "      <td>4.123572</td>\n",
       "      <td>3.957654</td>\n",
       "      <td>4.024</td>\n",
       "      <td>1243051600</td>\n",
       "      <td>0.0</td>\n",
       "      <td>0.0</td>\n",
       "    </tr>\n",
       "    <tr>\n",
       "      <th>2008-01-31 00:00:00-05:00</th>\n",
       "      <td>3.940909</td>\n",
       "      <td>4.160102</td>\n",
       "      <td>3.939387</td>\n",
       "      <td>4.121</td>\n",
       "      <td>1345674400</td>\n",
       "      <td>0.0</td>\n",
       "      <td>0.0</td>\n",
       "    </tr>\n",
       "  </tbody>\n",
       "</table>\n",
       "</div>"
      ],
      "text/plain": [
       "                               Open      High       Low  Close      Volume  \\\n",
       "Date                                                                         \n",
       "2008-01-25 00:00:00-05:00  4.231343  4.234387  3.945783  3.958  1554739200   \n",
       "2008-01-28 00:00:00-05:00  3.901640  4.055075  3.849580  3.958  1474844000   \n",
       "2008-01-29 00:00:00-05:00  3.992665  4.042592  3.928734  4.005  1099982800   \n",
       "2008-01-30 00:00:00-05:00  3.999362  4.123572  3.957654  4.024  1243051600   \n",
       "2008-01-31 00:00:00-05:00  3.940909  4.160102  3.939387  4.121  1345674400   \n",
       "\n",
       "                           Dividends  Stock Splits  \n",
       "Date                                                \n",
       "2008-01-25 00:00:00-05:00        0.0           0.0  \n",
       "2008-01-28 00:00:00-05:00        0.0           0.0  \n",
       "2008-01-29 00:00:00-05:00        0.0           0.0  \n",
       "2008-01-30 00:00:00-05:00        0.0           0.0  \n",
       "2008-01-31 00:00:00-05:00        0.0           0.0  "
      ]
     },
     "execution_count": 2,
     "metadata": {},
     "output_type": "execute_result"
    }
   ],
   "source": [
    "symbol = \"AAPL\"\n",
    "stock = yf.Ticker(symbol)\n",
    "prices = stock.history(period='15y')\n",
    "prices['Close'] = prices['Close'].round(3)\n",
    "prices.head()"
   ]
  },
  {
   "cell_type": "code",
   "execution_count": null,
   "metadata": {},
   "outputs": [],
   "source": [
    "prices = prices.reset_index()\n",
    "prices"
   ]
  },
  {
   "cell_type": "code",
   "execution_count": null,
   "metadata": {},
   "outputs": [],
   "source": [
    "from datetime import datetime, date\n",
    "import datetime as dt\n",
    "prices['Date'] = prices['Date'].dt.date\n",
    "prices = prices[['Date', 'Open', 'High', 'Low', 'Close']]\n",
    "prices.head()"
   ]
  },
  {
   "cell_type": "code",
   "execution_count": null,
   "metadata": {},
   "outputs": [],
   "source": [
    "prices.set_index('Date', inplace = True)\n",
    "prices.head()"
   ]
  },
  {
   "cell_type": "code",
   "execution_count": null,
   "metadata": {},
   "outputs": [],
   "source": [
    "plt.figure(figsize = (10, 5))\n",
    "prices['Close'].plot()"
   ]
  },
  {
   "cell_type": "code",
   "execution_count": null,
   "metadata": {},
   "outputs": [],
   "source": [
    "plt.figure(figsize = (10, 5))\n",
    "prices['Open'].plot()\n"
   ]
  },
  {
   "cell_type": "code",
   "execution_count": null,
   "metadata": {},
   "outputs": [],
   "source": [
    "price = prices['Close'].reset_index()\n",
    "price"
   ]
  },
  {
   "cell_type": "code",
   "execution_count": null,
   "metadata": {},
   "outputs": [],
   "source": [
    "price = price.rename(columns = {'Date': 'ds', 'Close': 'y'})\n",
    "price.head()"
   ]
  },
  {
   "cell_type": "code",
   "execution_count": null,
   "metadata": {},
   "outputs": [],
   "source": [
    "import cmdstanpy\n",
    "cmdstanpy.install_cmdstan()\n",
    "cmdstanpy.install_cmdstan(compiler=True)"
   ]
  },
  {
   "cell_type": "code",
   "execution_count": null,
   "metadata": {},
   "outputs": [],
   "source": [
    "model = Prophet()\n",
    "model.fit(price)"
   ]
  },
  {
   "cell_type": "code",
   "execution_count": null,
   "metadata": {},
   "outputs": [],
   "source": [
    "future = model.make_future_dataframe(periods = 365)\n",
    "future.tail()"
   ]
  },
  {
   "cell_type": "code",
   "execution_count": null,
   "metadata": {},
   "outputs": [],
   "source": [
    "forecast = model.predict(future)\n",
    "forecast"
   ]
  },
  {
   "cell_type": "code",
   "execution_count": null,
   "metadata": {},
   "outputs": [],
   "source": [
    "forecast[['ds', 'yhat', 'yhat_lower', 'yhat_upper']].tail()"
   ]
  },
  {
   "cell_type": "code",
   "execution_count": null,
   "metadata": {},
   "outputs": [],
   "source": [
    "figure1 = model.plot(forecast)"
   ]
  },
  {
   "cell_type": "code",
   "execution_count": null,
   "metadata": {},
   "outputs": [],
   "source": [
    "figure2 = model.plot_components(forecast)"
   ]
  },
  {
   "cell_type": "code",
   "execution_count": null,
   "metadata": {},
   "outputs": [],
   "source": [
    "from prophet.plot import plot_plotly, plot_components_plotly\n",
    "\n",
    "plot_plotly(model, forecast)"
   ]
  },
  {
   "cell_type": "code",
   "execution_count": null,
   "metadata": {},
   "outputs": [],
   "source": [
    "plot_components_plotly(model, forecast)"
   ]
  }
 ],
 "metadata": {
  "kernelspec": {
   "display_name": "base",
   "language": "python",
   "name": "python3"
  },
  "language_info": {
   "codemirror_mode": {
    "name": "ipython",
    "version": 3
   },
   "file_extension": ".py",
   "mimetype": "text/x-python",
   "name": "python",
   "nbconvert_exporter": "python",
   "pygments_lexer": "ipython3",
   "version": "3.8.8"
  },
  "orig_nbformat": 4,
  "vscode": {
   "interpreter": {
    "hash": "236814b8d4b75d1feddd17e21c3b7222febf3eb059b4ed497c4d9e5be8834971"
   }
  }
 },
 "nbformat": 4,
 "nbformat_minor": 2
}
