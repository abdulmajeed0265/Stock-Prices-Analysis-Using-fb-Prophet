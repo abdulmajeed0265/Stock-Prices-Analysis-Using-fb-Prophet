{
 "cells": [
  {
   "cell_type": "code",
   "execution_count": 3,
   "metadata": {},
   "outputs": [],
   "source": [
    "import pandas as pd\n",
    "import numpy as np\n",
    "import yfinance as yf\n",
    "from prophet import Prophet\n",
    "import matplotlib.pyplot as plt\n",
    "import seaborn as sns"
   ]
  },
  {
   "cell_type": "code",
   "execution_count": 2,
   "metadata": {},
   "outputs": [
    {
     "data": {
      "text/html": [
       "<div>\n",
       "<style scoped>\n",
       "    .dataframe tbody tr th:only-of-type {\n",
       "        vertical-align: middle;\n",
       "    }\n",
       "\n",
       "    .dataframe tbody tr th {\n",
       "        vertical-align: top;\n",
       "    }\n",
       "\n",
       "    .dataframe thead th {\n",
       "        text-align: right;\n",
       "    }\n",
       "</style>\n",
       "<table border=\"1\" class=\"dataframe\">\n",
       "  <thead>\n",
       "    <tr style=\"text-align: right;\">\n",
       "      <th></th>\n",
       "      <th>Open</th>\n",
       "      <th>High</th>\n",
       "      <th>Low</th>\n",
       "      <th>Close</th>\n",
       "      <th>Volume</th>\n",
       "      <th>Dividends</th>\n",
       "      <th>Stock Splits</th>\n",
       "    </tr>\n",
       "    <tr>\n",
       "      <th>Date</th>\n",
       "      <th></th>\n",
       "      <th></th>\n",
       "      <th></th>\n",
       "      <th></th>\n",
       "      <th></th>\n",
       "      <th></th>\n",
       "      <th></th>\n",
       "    </tr>\n",
       "  </thead>\n",
       "  <tbody>\n",
       "    <tr>\n",
       "      <th>2008-01-25 00:00:00-05:00</th>\n",
       "      <td>14.810060</td>\n",
       "      <td>14.889890</td>\n",
       "      <td>14.168669</td>\n",
       "      <td>14.174</td>\n",
       "      <td>278361360</td>\n",
       "      <td>0.0</td>\n",
       "      <td>0.0</td>\n",
       "    </tr>\n",
       "    <tr>\n",
       "      <th>2008-01-28 00:00:00-05:00</th>\n",
       "      <td>14.288539</td>\n",
       "      <td>14.320320</td>\n",
       "      <td>13.728729</td>\n",
       "      <td>13.913</td>\n",
       "      <td>232435332</td>\n",
       "      <td>0.0</td>\n",
       "      <td>0.0</td>\n",
       "    </tr>\n",
       "    <tr>\n",
       "      <th>2008-01-29 00:00:00-05:00</th>\n",
       "      <td>14.025776</td>\n",
       "      <td>14.047297</td>\n",
       "      <td>13.530280</td>\n",
       "      <td>13.777</td>\n",
       "      <td>251068680</td>\n",
       "      <td>0.0</td>\n",
       "      <td>0.0</td>\n",
       "    </tr>\n",
       "    <tr>\n",
       "      <th>2008-01-30 00:00:00-05:00</th>\n",
       "      <td>13.743493</td>\n",
       "      <td>14.024775</td>\n",
       "      <td>13.601351</td>\n",
       "      <td>13.720</td>\n",
       "      <td>317266416</td>\n",
       "      <td>0.0</td>\n",
       "      <td>0.0</td>\n",
       "    </tr>\n",
       "    <tr>\n",
       "      <th>2008-01-31 00:00:00-05:00</th>\n",
       "      <td>13.488739</td>\n",
       "      <td>14.339339</td>\n",
       "      <td>13.370621</td>\n",
       "      <td>14.122</td>\n",
       "      <td>594257148</td>\n",
       "      <td>0.0</td>\n",
       "      <td>0.0</td>\n",
       "    </tr>\n",
       "  </tbody>\n",
       "</table>\n",
       "</div>"
      ],
      "text/plain": [
       "                                Open       High        Low   Close     Volume  \\\n",
       "Date                                                                            \n",
       "2008-01-25 00:00:00-05:00  14.810060  14.889890  14.168669  14.174  278361360   \n",
       "2008-01-28 00:00:00-05:00  14.288539  14.320320  13.728729  13.913  232435332   \n",
       "2008-01-29 00:00:00-05:00  14.025776  14.047297  13.530280  13.777  251068680   \n",
       "2008-01-30 00:00:00-05:00  13.743493  14.024775  13.601351  13.720  317266416   \n",
       "2008-01-31 00:00:00-05:00  13.488739  14.339339  13.370621  14.122  594257148   \n",
       "\n",
       "                           Dividends  Stock Splits  \n",
       "Date                                                \n",
       "2008-01-25 00:00:00-05:00        0.0           0.0  \n",
       "2008-01-28 00:00:00-05:00        0.0           0.0  \n",
       "2008-01-29 00:00:00-05:00        0.0           0.0  \n",
       "2008-01-30 00:00:00-05:00        0.0           0.0  \n",
       "2008-01-31 00:00:00-05:00        0.0           0.0  "
      ]
     },
     "execution_count": 2,
     "metadata": {},
     "output_type": "execute_result"
    }
   ],
   "source": [
    "symbol = \"GOOGL\"\n",
    "stock = yf.Ticker(symbol)\n",
    "prices = stock.history(period='15y')\n",
    "prices['Close'] = prices['Close'].round(3)\n",
    "prices.head()"
   ]
  }
 ],
 "metadata": {
  "kernelspec": {
   "display_name": "base",
   "language": "python",
   "name": "python3"
  },
  "language_info": {
   "codemirror_mode": {
    "name": "ipython",
    "version": 3
   },
   "file_extension": ".py",
   "mimetype": "text/x-python",
   "name": "python",
   "nbconvert_exporter": "python",
   "pygments_lexer": "ipython3",
   "version": "3.8.8"
  },
  "orig_nbformat": 4,
  "vscode": {
   "interpreter": {
    "hash": "236814b8d4b75d1feddd17e21c3b7222febf3eb059b4ed497c4d9e5be8834971"
   }
  }
 },
 "nbformat": 4,
 "nbformat_minor": 2
}
