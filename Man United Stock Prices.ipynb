{
 "cells": [
  {
   "cell_type": "code",
   "execution_count": 3,
   "metadata": {},
   "outputs": [],
   "source": [
    "import pandas as pd\n",
    "import numpy as np\n",
    "import yfinance as yf\n",
    "from prophet import Prophet\n",
    "import matplotlib.pyplot as plt\n",
    "import seaborn as sns"
   ]
  },
  {
   "cell_type": "code",
   "execution_count": 2,
   "metadata": {},
   "outputs": [
    {
     "data": {
      "text/html": [
       "<div>\n",
       "<style scoped>\n",
       "    .dataframe tbody tr th:only-of-type {\n",
       "        vertical-align: middle;\n",
       "    }\n",
       "\n",
       "    .dataframe tbody tr th {\n",
       "        vertical-align: top;\n",
       "    }\n",
       "\n",
       "    .dataframe thead th {\n",
       "        text-align: right;\n",
       "    }\n",
       "</style>\n",
       "<table border=\"1\" class=\"dataframe\">\n",
       "  <thead>\n",
       "    <tr style=\"text-align: right;\">\n",
       "      <th></th>\n",
       "      <th>Open</th>\n",
       "      <th>High</th>\n",
       "      <th>Low</th>\n",
       "      <th>Close</th>\n",
       "      <th>Volume</th>\n",
       "      <th>Dividends</th>\n",
       "      <th>Stock Splits</th>\n",
       "    </tr>\n",
       "    <tr>\n",
       "      <th>Date</th>\n",
       "      <th></th>\n",
       "      <th></th>\n",
       "      <th></th>\n",
       "      <th></th>\n",
       "      <th></th>\n",
       "      <th></th>\n",
       "      <th></th>\n",
       "    </tr>\n",
       "  </thead>\n",
       "  <tbody>\n",
       "    <tr>\n",
       "      <th>2012-08-10 00:00:00-04:00</th>\n",
       "      <td>13.024644</td>\n",
       "      <td>13.163696</td>\n",
       "      <td>12.978292</td>\n",
       "      <td>12.978</td>\n",
       "      <td>31846200</td>\n",
       "      <td>0.0</td>\n",
       "      <td>0.0</td>\n",
       "    </tr>\n",
       "    <tr>\n",
       "      <th>2012-08-13 00:00:00-04:00</th>\n",
       "      <td>12.950478</td>\n",
       "      <td>14.155605</td>\n",
       "      <td>12.941208</td>\n",
       "      <td>13.117</td>\n",
       "      <td>2061800</td>\n",
       "      <td>0.0</td>\n",
       "      <td>0.0</td>\n",
       "    </tr>\n",
       "    <tr>\n",
       "      <th>2012-08-14 00:00:00-04:00</th>\n",
       "      <td>13.163694</td>\n",
       "      <td>13.423260</td>\n",
       "      <td>13.117343</td>\n",
       "      <td>13.164</td>\n",
       "      <td>204800</td>\n",
       "      <td>0.0</td>\n",
       "      <td>0.0</td>\n",
       "    </tr>\n",
       "    <tr>\n",
       "      <th>2012-08-15 00:00:00-04:00</th>\n",
       "      <td>13.367641</td>\n",
       "      <td>13.794070</td>\n",
       "      <td>13.006102</td>\n",
       "      <td>13.025</td>\n",
       "      <td>563500</td>\n",
       "      <td>0.0</td>\n",
       "      <td>0.0</td>\n",
       "    </tr>\n",
       "    <tr>\n",
       "      <th>2012-08-16 00:00:00-04:00</th>\n",
       "      <td>13.043182</td>\n",
       "      <td>13.052453</td>\n",
       "      <td>12.320106</td>\n",
       "      <td>12.765</td>\n",
       "      <td>1605600</td>\n",
       "      <td>0.0</td>\n",
       "      <td>0.0</td>\n",
       "    </tr>\n",
       "  </tbody>\n",
       "</table>\n",
       "</div>"
      ],
      "text/plain": [
       "                                Open       High        Low   Close    Volume  \\\n",
       "Date                                                                           \n",
       "2012-08-10 00:00:00-04:00  13.024644  13.163696  12.978292  12.978  31846200   \n",
       "2012-08-13 00:00:00-04:00  12.950478  14.155605  12.941208  13.117   2061800   \n",
       "2012-08-14 00:00:00-04:00  13.163694  13.423260  13.117343  13.164    204800   \n",
       "2012-08-15 00:00:00-04:00  13.367641  13.794070  13.006102  13.025    563500   \n",
       "2012-08-16 00:00:00-04:00  13.043182  13.052453  12.320106  12.765   1605600   \n",
       "\n",
       "                           Dividends  Stock Splits  \n",
       "Date                                                \n",
       "2012-08-10 00:00:00-04:00        0.0           0.0  \n",
       "2012-08-13 00:00:00-04:00        0.0           0.0  \n",
       "2012-08-14 00:00:00-04:00        0.0           0.0  \n",
       "2012-08-15 00:00:00-04:00        0.0           0.0  \n",
       "2012-08-16 00:00:00-04:00        0.0           0.0  "
      ]
     },
     "execution_count": 2,
     "metadata": {},
     "output_type": "execute_result"
    }
   ],
   "source": [
    "symbol = \"MANU\"\n",
    "stock = yf.Ticker(symbol)\n",
    "prices = stock.history(period='15y')\n",
    "prices['Close'] = prices['Close'].round(3)\n",
    "prices.head()\n"
   ]
  }
 ],
 "metadata": {
  "kernelspec": {
   "display_name": "base",
   "language": "python",
   "name": "python3"
  },
  "language_info": {
   "codemirror_mode": {
    "name": "ipython",
    "version": 3
   },
   "file_extension": ".py",
   "mimetype": "text/x-python",
   "name": "python",
   "nbconvert_exporter": "python",
   "pygments_lexer": "ipython3",
   "version": "3.8.8"
  },
  "orig_nbformat": 4,
  "vscode": {
   "interpreter": {
    "hash": "236814b8d4b75d1feddd17e21c3b7222febf3eb059b4ed497c4d9e5be8834971"
   }
  }
 },
 "nbformat": 4,
 "nbformat_minor": 2
}
