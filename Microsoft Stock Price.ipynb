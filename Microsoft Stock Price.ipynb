{
 "cells": [
  {
   "cell_type": "code",
   "execution_count": 3,
   "metadata": {},
   "outputs": [],
   "source": [
    "import pandas as pd\n",
    "import numpy as np\n",
    "import yfinance as yf\n",
    "from prophet import Prophet\n",
    "import matplotlib.pyplot as plt\n",
    "import seaborn as sns\n"
   ]
  },
  {
   "cell_type": "code",
   "execution_count": 2,
   "metadata": {},
   "outputs": [
    {
     "data": {
      "text/html": [
       "<div>\n",
       "<style scoped>\n",
       "    .dataframe tbody tr th:only-of-type {\n",
       "        vertical-align: middle;\n",
       "    }\n",
       "\n",
       "    .dataframe tbody tr th {\n",
       "        vertical-align: top;\n",
       "    }\n",
       "\n",
       "    .dataframe thead th {\n",
       "        text-align: right;\n",
       "    }\n",
       "</style>\n",
       "<table border=\"1\" class=\"dataframe\">\n",
       "  <thead>\n",
       "    <tr style=\"text-align: right;\">\n",
       "      <th></th>\n",
       "      <th>Open</th>\n",
       "      <th>High</th>\n",
       "      <th>Low</th>\n",
       "      <th>Close</th>\n",
       "      <th>Volume</th>\n",
       "      <th>Dividends</th>\n",
       "      <th>Stock Splits</th>\n",
       "    </tr>\n",
       "    <tr>\n",
       "      <th>Date</th>\n",
       "      <th></th>\n",
       "      <th></th>\n",
       "      <th></th>\n",
       "      <th></th>\n",
       "      <th></th>\n",
       "      <th></th>\n",
       "      <th></th>\n",
       "    </tr>\n",
       "  </thead>\n",
       "  <tbody>\n",
       "    <tr>\n",
       "      <th>2008-01-25 00:00:00-05:00</th>\n",
       "      <td>25.620894</td>\n",
       "      <td>25.694305</td>\n",
       "      <td>24.130622</td>\n",
       "      <td>24.182</td>\n",
       "      <td>196992300</td>\n",
       "      <td>0.0</td>\n",
       "      <td>0.0</td>\n",
       "    </tr>\n",
       "    <tr>\n",
       "      <th>2008-01-28 00:00:00-05:00</th>\n",
       "      <td>24.240742</td>\n",
       "      <td>24.299471</td>\n",
       "      <td>23.800267</td>\n",
       "      <td>24.021</td>\n",
       "      <td>81019000</td>\n",
       "      <td>0.0</td>\n",
       "      <td>0.0</td>\n",
       "    </tr>\n",
       "    <tr>\n",
       "      <th>2008-01-29 00:00:00-05:00</th>\n",
       "      <td>24.115938</td>\n",
       "      <td>24.145304</td>\n",
       "      <td>23.748877</td>\n",
       "      <td>23.932</td>\n",
       "      <td>68023000</td>\n",
       "      <td>0.0</td>\n",
       "      <td>0.0</td>\n",
       "    </tr>\n",
       "    <tr>\n",
       "      <th>2008-01-30 00:00:00-05:00</th>\n",
       "      <td>23.903048</td>\n",
       "      <td>24.079236</td>\n",
       "      <td>23.528644</td>\n",
       "      <td>23.639</td>\n",
       "      <td>106432600</td>\n",
       "      <td>0.0</td>\n",
       "      <td>0.0</td>\n",
       "    </tr>\n",
       "    <tr>\n",
       "      <th>2008-01-31 00:00:00-05:00</th>\n",
       "      <td>23.425864</td>\n",
       "      <td>24.035187</td>\n",
       "      <td>23.286380</td>\n",
       "      <td>23.932</td>\n",
       "      <td>103642200</td>\n",
       "      <td>0.0</td>\n",
       "      <td>0.0</td>\n",
       "    </tr>\n",
       "  </tbody>\n",
       "</table>\n",
       "</div>"
      ],
      "text/plain": [
       "                                Open       High        Low   Close     Volume  \\\n",
       "Date                                                                            \n",
       "2008-01-25 00:00:00-05:00  25.620894  25.694305  24.130622  24.182  196992300   \n",
       "2008-01-28 00:00:00-05:00  24.240742  24.299471  23.800267  24.021   81019000   \n",
       "2008-01-29 00:00:00-05:00  24.115938  24.145304  23.748877  23.932   68023000   \n",
       "2008-01-30 00:00:00-05:00  23.903048  24.079236  23.528644  23.639  106432600   \n",
       "2008-01-31 00:00:00-05:00  23.425864  24.035187  23.286380  23.932  103642200   \n",
       "\n",
       "                           Dividends  Stock Splits  \n",
       "Date                                                \n",
       "2008-01-25 00:00:00-05:00        0.0           0.0  \n",
       "2008-01-28 00:00:00-05:00        0.0           0.0  \n",
       "2008-01-29 00:00:00-05:00        0.0           0.0  \n",
       "2008-01-30 00:00:00-05:00        0.0           0.0  \n",
       "2008-01-31 00:00:00-05:00        0.0           0.0  "
      ]
     },
     "execution_count": 2,
     "metadata": {},
     "output_type": "execute_result"
    }
   ],
   "source": [
    "symbol = \"MSFT\"\n",
    "stock = yf.Ticker(symbol)\n",
    "prices = stock.history(period='15y')\n",
    "prices['Close'] = prices['Close'].round(3)\n",
    "prices.head()"
   ]
  },
  {
   "cell_type": "code",
   "execution_count": null,
   "metadata": {},
   "outputs": [],
   "source": []
  }
 ],
 "metadata": {
  "kernelspec": {
   "display_name": "base",
   "language": "python",
   "name": "python3"
  },
  "language_info": {
   "codemirror_mode": {
    "name": "ipython",
    "version": 3
   },
   "file_extension": ".py",
   "mimetype": "text/x-python",
   "name": "python",
   "nbconvert_exporter": "python",
   "pygments_lexer": "ipython3",
   "version": "3.8.8"
  },
  "orig_nbformat": 4,
  "vscode": {
   "interpreter": {
    "hash": "236814b8d4b75d1feddd17e21c3b7222febf3eb059b4ed497c4d9e5be8834971"
   }
  }
 },
 "nbformat": 4,
 "nbformat_minor": 2
}
