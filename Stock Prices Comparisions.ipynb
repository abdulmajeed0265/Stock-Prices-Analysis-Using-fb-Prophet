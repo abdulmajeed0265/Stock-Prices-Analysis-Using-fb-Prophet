{
 "cells": [
  {
   "cell_type": "code",
   "execution_count": 4,
   "metadata": {},
   "outputs": [],
   "source": [
    "import pandas as pd\n",
    "import numpy as np\n",
    "import yfinance as yf\n",
    "from prophet import Prophet\n",
    "import matplotlib.pyplot as plt\n",
    "import seaborn as sns"
   ]
  },
  {
   "cell_type": "code",
   "execution_count": 11,
   "metadata": {},
   "outputs": [
    {
     "data": {
      "text/plain": [
       "Date\n",
       "2012-08-10 00:00:00-04:00    12.978\n",
       "2012-08-13 00:00:00-04:00    13.117\n",
       "2012-08-14 00:00:00-04:00    13.164\n",
       "2012-08-15 00:00:00-04:00    13.025\n",
       "2012-08-16 00:00:00-04:00    12.765\n",
       "Name: Close, dtype: float64"
      ]
     },
     "execution_count": 11,
     "metadata": {},
     "output_type": "execute_result"
    }
   ],
   "source": [
    "apple_sym = \"APPL\"\n",
    "apple = yf.Ticker(apple_sym)\n",
    "apple = apple.history(period='15y')\n",
    "apple = apple['Close'].round(3)\n",
    "apple.head()"
   ]
  },
  {
   "cell_type": "code",
   "execution_count": 12,
   "metadata": {},
   "outputs": [
    {
     "data": {
      "text/plain": [
       "Date\n",
       "2008-01-25 00:00:00-05:00    24.182\n",
       "2008-01-28 00:00:00-05:00    24.021\n",
       "2008-01-29 00:00:00-05:00    23.932\n",
       "2008-01-30 00:00:00-05:00    23.639\n",
       "2008-01-31 00:00:00-05:00    23.932\n",
       "Name: Close, dtype: float64"
      ]
     },
     "execution_count": 12,
     "metadata": {},
     "output_type": "execute_result"
    }
   ],
   "source": [
    "microsoft_sym = \"MSFT\"\n",
    "microsoft = yf.Ticker(microsoft_sym)\n",
    "microsoft  = microsoft.history(period='15y')\n",
    "microsoft = microsoft['Close'].round(3)\n",
    "microsoft.head()"
   ]
  },
  {
   "cell_type": "code",
   "execution_count": 13,
   "metadata": {},
   "outputs": [
    {
     "data": {
      "text/plain": [
       "Date\n",
       "2008-01-25 00:00:00-05:00    14.174\n",
       "2008-01-28 00:00:00-05:00    13.913\n",
       "2008-01-29 00:00:00-05:00    13.777\n",
       "2008-01-30 00:00:00-05:00    13.720\n",
       "2008-01-31 00:00:00-05:00    14.122\n",
       "Name: Close, dtype: float64"
      ]
     },
     "execution_count": 13,
     "metadata": {},
     "output_type": "execute_result"
    }
   ],
   "source": [
    "google_sym = \"GOOGL\"\n",
    "google = yf.Ticker(google_sym)\n",
    "google  = google.history(period='15y')\n",
    "google= google['Close'].round(3)\n",
    "google.head()"
   ]
  },
  {
   "cell_type": "code",
   "execution_count": 14,
   "metadata": {},
   "outputs": [
    {
     "data": {
      "text/plain": [
       "Date\n",
       "2012-05-18 00:00:00-04:00    38.23\n",
       "2012-05-21 00:00:00-04:00    34.03\n",
       "2012-05-22 00:00:00-04:00    31.00\n",
       "2012-05-23 00:00:00-04:00    32.00\n",
       "2012-05-24 00:00:00-04:00    33.03\n",
       "Name: Close, dtype: float64"
      ]
     },
     "execution_count": 14,
     "metadata": {},
     "output_type": "execute_result"
    }
   ],
   "source": [
    "meta_sym = \"META\"\n",
    "meta = yf.Ticker(meta_sym)\n",
    "meta  = meta.history(period='15y')\n",
    "meta = meta['Close'].round(3)\n",
    "meta.head()"
   ]
  },
  {
   "cell_type": "code",
   "execution_count": null,
   "metadata": {},
   "outputs": [],
   "source": []
  }
 ],
 "metadata": {
  "kernelspec": {
   "display_name": "base",
   "language": "python",
   "name": "python3"
  },
  "language_info": {
   "codemirror_mode": {
    "name": "ipython",
    "version": 3
   },
   "file_extension": ".py",
   "mimetype": "text/x-python",
   "name": "python",
   "nbconvert_exporter": "python",
   "pygments_lexer": "ipython3",
   "version": "3.8.8"
  },
  "orig_nbformat": 4,
  "vscode": {
   "interpreter": {
    "hash": "236814b8d4b75d1feddd17e21c3b7222febf3eb059b4ed497c4d9e5be8834971"
   }
  }
 },
 "nbformat": 4,
 "nbformat_minor": 2
}
